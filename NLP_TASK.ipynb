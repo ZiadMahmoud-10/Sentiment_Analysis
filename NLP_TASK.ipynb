{
 "cells": [
  {
   "cell_type": "markdown",
   "metadata": {},
   "source": [
    "### Imports\n"
   ]
  },
  {
   "cell_type": "code",
   "execution_count": 10,
   "metadata": {},
   "outputs": [],
   "source": [
    "import pandas as pd\n",
    "import numpy as np\n",
    "import re\n",
    "import nltk\n",
    "from nltk.tokenize import word_tokenize\n",
    "import tensorflow as tf\n",
    "from tensorflow.keras.preprocessing.sequence import pad_sequences\n",
    "from tensorflow.keras.models import Sequential\n",
    "from tensorflow.keras.layers import Embedding, SimpleRNN, Dense\n",
    "from sklearn.metrics import classification_report\n"
   ]
  },
  {
   "cell_type": "markdown",
   "metadata": {},
   "source": [
    "### Preprocessing "
   ]
  },
  {
   "cell_type": "code",
   "execution_count": 4,
   "metadata": {},
   "outputs": [],
   "source": [
    "def tokenize(text):\n",
    "    text = re.sub(r'http\\S+|www\\S+|https\\S+', '', text)  \n",
    "    text = re.sub(r'[^a-zA-Z\\s.]', '', text)  \n",
    "    tokens = word_tokenize(text.lower())\n",
    "    return [token for token in tokens if token.isalpha() or token == '.']"
   ]
  },
  {
   "cell_type": "markdown",
   "metadata": {},
   "source": [
    "### Load and Prepare Dataset"
   ]
  },
  {
   "cell_type": "code",
   "execution_count": null,
   "metadata": {},
   "outputs": [],
   "source": [
    "df = pd.read_csv('twitter_training.csv', names=['id', 'game', 'label', 'text'], quotechar='\"', skipinitialspace=True)\n",
    "df = df[df['label'].isin(['Positive', 'Negative', 'Neutral'])]\n",
    "df = df.drop_duplicates(subset=['text'])\n",
    "df = df.dropna(subset=['text'])\n",
    "\n",
    "df['tokens'] = df['text'].apply(tokenize)\n",
    "\n",
    "all_words = [word for tokens in df['tokens'] for word in tokens]\n",
    "vocab = list(set(all_words))\n",
    "word2idx = {word: idx + 1 for idx, word in enumerate(vocab)} \n",
    "vocab_size = len(word2idx) + 1  \n",
    "df['indices'] = df['tokens'].apply(lambda x: [word2idx[w] for w in x if w in word2idx])\n",
    "max_length = 20 \n",
    "X = pad_sequences(df['indices'], maxlen=max_length, padding='post')\n",
    "\n",
    "label2idx = {'Positive': 0, 'Negative': 1, 'Neutral': 2}\n",
    "y = np.array([label2idx[label] for label in df['label']])\n",
    "y_one_hot = tf.keras.utils.to_categorical(y, num_classes=3)"
   ]
  },
  {
   "cell_type": "markdown",
   "metadata": {},
   "source": [
    "## RNN Model"
   ]
  },
  {
   "cell_type": "code",
   "execution_count": 6,
   "metadata": {},
   "outputs": [
    {
     "name": "stderr",
     "output_type": "stream",
     "text": [
      "c:\\Users\\t\\AppData\\Local\\Programs\\Python\\Python310\\lib\\site-packages\\keras\\src\\layers\\core\\embedding.py:90: UserWarning: Argument `input_length` is deprecated. Just remove it.\n",
      "  warnings.warn(\n"
     ]
    }
   ],
   "source": [
    "model = Sequential([\n",
    "    Embedding(input_dim=vocab_size, output_dim=32, input_length=max_length),  \n",
    "    SimpleRNN(64, return_sequences=False),  \n",
    "    Dense(32, activation='relu'),  \n",
    "    Dense(3, activation='softmax')  # Output layer for 3 classes\n",
    "])\n",
    "\n",
    "\n",
    "model.compile(optimizer='adam', loss='categorical_crossentropy', metrics=['accuracy'])\n"
   ]
  },
  {
   "cell_type": "markdown",
   "metadata": {},
   "source": [
    "### Train the Model"
   ]
  },
  {
   "cell_type": "code",
   "execution_count": 7,
   "metadata": {},
   "outputs": [
    {
     "name": "stdout",
     "output_type": "stream",
     "text": [
      "Epoch 1/3\n",
      "\u001b[1m1433/1433\u001b[0m \u001b[32m━━━━━━━━━━━━━━━━━━━━\u001b[0m\u001b[37m\u001b[0m \u001b[1m32s\u001b[0m 20ms/step - accuracy: 0.5579 - loss: 0.9069 - val_accuracy: 0.7988 - val_loss: 0.5204\n",
      "Epoch 2/3\n",
      "\u001b[1m1433/1433\u001b[0m \u001b[32m━━━━━━━━━━━━━━━━━━━━\u001b[0m\u001b[37m\u001b[0m \u001b[1m27s\u001b[0m 19ms/step - accuracy: 0.8793 - loss: 0.3383 - val_accuracy: 0.8537 - val_loss: 0.3954\n",
      "Epoch 3/3\n",
      "\u001b[1m1433/1433\u001b[0m \u001b[32m━━━━━━━━━━━━━━━━━━━━\u001b[0m\u001b[37m\u001b[0m \u001b[1m27s\u001b[0m 18ms/step - accuracy: 0.9445 - loss: 0.1618 - val_accuracy: 0.8601 - val_loss: 0.4078\n"
     ]
    }
   ],
   "source": [
    "from sklearn.model_selection import train_test_split\n",
    "X_train, X_val, y_train, y_val = train_test_split(X, y_one_hot, test_size=0.2, random_state=42)\n",
    "history = model.fit(X_train, y_train, epochs=3, batch_size=32, validation_data=(X_val, y_val))"
   ]
  },
  {
   "cell_type": "code",
   "execution_count": 8,
   "metadata": {},
   "outputs": [],
   "source": [
    "def predict_label(text):\n",
    "    tokens = tokenize(text)\n",
    "    sequence = [word2idx.get(w, 0) for w in tokens]  # 0 for unknown words\n",
    "    padded_sequence = pad_sequences([sequence], maxlen=max_length, padding='post')\n",
    "    prediction = model.predict(padded_sequence, verbose=0)\n",
    "    label_idx = np.argmax(prediction, axis=-1)[0]\n",
    "    idx2label = {0: 'Positive', 1: 'Negative', 2: 'Neutral'}\n",
    "    return idx2label[label_idx]"
   ]
  },
  {
   "cell_type": "markdown",
   "metadata": {},
   "source": [
    "### Evaluate the Model"
   ]
  },
  {
   "cell_type": "code",
   "execution_count": 11,
   "metadata": {},
   "outputs": [
    {
     "name": "stdout",
     "output_type": "stream",
     "text": [
      "\u001b[1m359/359\u001b[0m \u001b[32m━━━━━━━━━━━━━━━━━━━━\u001b[0m\u001b[37m\u001b[0m \u001b[1m1s\u001b[0m 4ms/step - accuracy: 0.8597 - loss: 0.4119\n",
      "\n",
      "Validation Loss: 0.4078\n",
      "Validation Accuracy: 0.8601\n",
      "\n",
      "Classification Report:\n",
      "              precision    recall  f1-score   support\n",
      "\n",
      "    Positive       0.84      0.88      0.86      3770\n",
      "    Negative       0.89      0.86      0.87      4176\n",
      "     Neutral       0.85      0.84      0.85      3513\n",
      "\n",
      "    accuracy                           0.86     11459\n",
      "   macro avg       0.86      0.86      0.86     11459\n",
      "weighted avg       0.86      0.86      0.86     11459\n",
      "\n"
     ]
    }
   ],
   "source": [
    "val_loss, val_accuracy = model.evaluate(X_val, y_val)\n",
    "print(f\"\\nValidation Loss: {val_loss:.4f}\")\n",
    "print(f\"Validation Accuracy: {val_accuracy:.4f}\")\n",
    "\n",
    "y_val_pred = model.predict(X_val, verbose=0)\n",
    "y_val_pred_labels = np.argmax(y_val_pred, axis=1)\n",
    "y_val_true_labels = np.argmax(y_val, axis=1)\n",
    "\n",
    "class_report = classification_report(y_val_true_labels, y_val_pred_labels, target_names=['Positive', 'Negative', 'Neutral'])\n",
    "print(\"\\nClassification Report:\")\n",
    "print(class_report)"
   ]
  },
  {
   "cell_type": "code",
   "execution_count": 12,
   "metadata": {},
   "outputs": [
    {
     "name": "stdout",
     "output_type": "stream",
     "text": [
      "\n",
      "Predictions:\n",
      "Sentence: 'I love playing Borderlands 2 so much!' -> Label: Positive\n",
      "Sentence: 'Borderlands 3 is a complete disappointment' -> Label: Negative\n",
      "Sentence: 'Just finished a Borderlands session today' -> Label: Positive\n"
     ]
    }
   ],
   "source": [
    "test_sentences = [\n",
    "    \"I love playing Borderlands 2 so much!\",\n",
    "    \"Borderlands 3 is a complete disappointment\",\n",
    "    \"Just finished a Borderlands session today\"\n",
    "]\n",
    "\n",
    "print(\"\\nPredictions:\")\n",
    "for sentence in test_sentences:\n",
    "    prediction = predict_label(sentence)\n",
    "    print(f\"Sentence: '{sentence}' -> Label: {prediction}\")"
   ]
  },
  {
   "cell_type": "code",
   "execution_count": null,
   "metadata": {},
   "outputs": [],
   "source": []
  }
 ],
 "metadata": {
  "kernelspec": {
   "display_name": "Python 3",
   "language": "python",
   "name": "python3"
  },
  "language_info": {
   "codemirror_mode": {
    "name": "ipython",
    "version": 3
   },
   "file_extension": ".py",
   "mimetype": "text/x-python",
   "name": "python",
   "nbconvert_exporter": "python",
   "pygments_lexer": "ipython3",
   "version": "3.10.7"
  }
 },
 "nbformat": 4,
 "nbformat_minor": 2
}
